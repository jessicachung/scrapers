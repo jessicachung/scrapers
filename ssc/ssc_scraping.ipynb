{
 "cells": [
  {
   "cell_type": "code",
   "execution_count": null,
   "metadata": {
    "collapsed": false
   },
   "outputs": [],
   "source": [
    "import urllib.request\n",
    "from bs4 import BeautifulSoup\n",
    "import re\n",
    "import time\n",
    "import base64\n",
    "import pickle\n",
    "import logging"
   ]
  },
  {
   "cell_type": "code",
   "execution_count": null,
   "metadata": {
    "collapsed": true
   },
   "outputs": [],
   "source": [
    "logging.basicConfig(filename=\"scraping.log\",\n",
    "                    level=logging.DEBUG,\n",
    "                    filemode=\"a\",\n",
    "                    format='%(asctime)s %(levelname)s - %(message)s',\n",
    "                    datefmt='%m-%d-%Y %H:%M:%S')"
   ]
  },
  {
   "cell_type": "code",
   "execution_count": null,
   "metadata": {
    "collapsed": true
   },
   "outputs": [],
   "source": [
    "pickle_post_file = \"post_cache.pkl\"\n",
    "pickle_img_file = \"img_cache.pkl\""
   ]
  },
  {
   "cell_type": "code",
   "execution_count": null,
   "metadata": {
    "collapsed": false
   },
   "outputs": [],
   "source": [
    "try:\n",
    "    post_cache = pickle.load(open(pickle_post_file, \"rb\"))\n",
    "    logging.info(\"Loaded post cache\")\n",
    "except:\n",
    "    post_cache = {}"
   ]
  },
  {
   "cell_type": "code",
   "execution_count": null,
   "metadata": {
    "collapsed": false
   },
   "outputs": [],
   "source": [
    "try:\n",
    "    img_cache = pickle.load(open(pickle_img_file, \"rb\"))\n",
    "    logging.info(\"Loaded image cache\")\n",
    "except:\n",
    "    img_cache = {}"
   ]
  },
  {
   "cell_type": "code",
   "execution_count": null,
   "metadata": {
    "collapsed": true
   },
   "outputs": [],
   "source": [
    "def scrape_scc(url):\n",
    "    # Get html\n",
    "    if url in post_cache:\n",
    "        logging.info(\"Loading from cache: {}\".format(url))\n",
    "        html = post_cache[url]\n",
    "    else:\n",
    "        logging.info(\"Requesting: {}\".format(url))\n",
    "        req = urllib.request.Request(url, headers={\"User-Agent\": \"Mozilla/5.0\"})\n",
    "        html = urllib.request.urlopen(req).read()\n",
    "        # Save to cache\n",
    "        post_cache[url] = html\n",
    "        time.sleep(1)\n",
    "    soup = BeautifulSoup(html, \"lxml\")\n",
    "    \n",
    "    # Get title\n",
    "    title = soup.find(\"h1\", attrs={\"class\": \"pjgm-posttitle\"})\n",
    "    anchor = re.sub(\" \", \"_\", title.text.lower())\n",
    "    new_title = '<h1 id=\"{}\">{}</h1>'.format(anchor, title.text)\n",
    "    toc_link = '<a href=\"#{}\">{}</a>'.format(anchor, title.text)\n",
    "    \n",
    "    # Get content\n",
    "    metadata = soup.find(\"div\", attrs={\"class\": \"pjgm-postmeta\"})\n",
    "    content = soup.find(\"div\", attrs={\"class\": \"pjgm-postcontent\"})\n",
    "    \n",
    "    # Convert images to base64\n",
    "    content_with_images = embed_images(content)\n",
    "    \n",
    "    post = {\"url\": url, \n",
    "            \"toc\": toc_link, \n",
    "            \"body\": new_title + str(metadata) + content_with_images}\n",
    "    return post"
   ]
  },
  {
   "cell_type": "code",
   "execution_count": null,
   "metadata": {
    "collapsed": true
   },
   "outputs": [],
   "source": [
    "def embed_images(content):\n",
    "    \"Read in image URL, convert to base64, and replace image tags in content\"\n",
    "    image_tags = content.find_all(\"img\")\n",
    "    content = str(content)\n",
    "    for tag in image_tags:\n",
    "        # Get image url\n",
    "        img_url = tag.attrs[\"src\"]\n",
    "        \n",
    "        # Get filename extension. If no extension, do nothing\n",
    "        try:\n",
    "            img_type = re.search(\"\\.(\\w+)$\", img_url).group(1)\n",
    "        except AttributeError:\n",
    "            continue\n",
    "        \n",
    "        # Get image data\n",
    "        if img_url in img_cache:\n",
    "            logging.info(\"Loading image from cache: {}\".format(img_url))\n",
    "            img_data = img_cache[img_url]\n",
    "        else:\n",
    "            logging.info(\"Requesting: {}\".format(img_url))\n",
    "            req = urllib.request.Request(img_url, headers={\"User-Agent\": \"Mozilla/5.0\"})\n",
    "            try:\n",
    "                img_data = urllib.request.urlopen(req).read()\n",
    "                # Save to cache\n",
    "                img_cache[img_url] = img_data\n",
    "            except urllib.request.HTTPError:\n",
    "                img_data = None \n",
    "        \n",
    "        if img_data:\n",
    "            # Convert to base64\n",
    "            b64_img = base64.b64encode(img_data)\n",
    "            # Create new img tag\n",
    "            new_img_tag = '<img src=\"data:image/{};base64,{}\"/>'.format(\n",
    "                img_type, b64_img.decode(encoding=\"ascii\"))\n",
    "        else:\n",
    "            new_img_tag = '<i>Image unavailable.</i>'\n",
    "\n",
    "        # Replace old tag\n",
    "        content = re.sub(str(tag), new_img_tag, content)\n",
    "    return content"
   ]
  },
  {
   "cell_type": "code",
   "execution_count": null,
   "metadata": {
    "collapsed": true
   },
   "outputs": [],
   "source": [
    "url_list = [\n",
    "    \"http://slatestarcodex.com/2014/07/30/meditations-on-moloch/\",\n",
    "    \"http://slatestarcodex.com/2014/09/30/i-can-tolerate-anything-except-the-outgroup/\",\n",
    "    \"http://slatestarcodex.com/2016/04/27/book-review-albions-seed/\",\n",
    "    \"http://slatestarcodex.com/2014/12/17/the-toxoplasma-of-rage/\",\n",
    "    \"http://slatestarcodex.com/2014/12/19/nobody-is-perfect-everything-is-commensurable/\",\n",
    "    \"http://slatestarcodex.com/2014/11/21/the-categories-were-made-for-man-not-man-for-the-categories/\",\n",
    "    \"http://slatestarcodex.com/2013/07/17/who-by-very-slow-decay/\",\n",
    "    \"http://slatestarcodex.com/2014/08/16/burdens/\",\n",
    "    \"http://slatestarcodex.com/2015/01/31/the-parable-of-the-talents/\",\n",
    "    \"http://slatestarcodex.com/2017/02/22/repost-the-non-libertarian-faq/\",\n",
    "    \"http://slatestarcodex.com/2013/03/03/reactionary-philosophy-in-an-enormous-planet-sized-nutshell/\",\n",
    "    \"http://slatestarcodex.com/2013/10/20/the-anti-reactionary-faq/\"\n",
    "]"
   ]
  },
  {
   "cell_type": "code",
   "execution_count": null,
   "metadata": {
    "collapsed": true
   },
   "outputs": [],
   "source": [
    "book = {\"toc\": [\"<h1>Table of Contents</h1>\"],\n",
    "        \"body\": []}"
   ]
  },
  {
   "cell_type": "code",
   "execution_count": null,
   "metadata": {
    "collapsed": false
   },
   "outputs": [],
   "source": [
    "for url in url_list:\n",
    "    post = scrape_scc(url)\n",
    "    book[\"toc\"].append(post[\"toc\"])\n",
    "    book[\"body\"].append(post[\"body\"])"
   ]
  },
  {
   "cell_type": "code",
   "execution_count": null,
   "metadata": {
    "collapsed": false
   },
   "outputs": [],
   "source": [
    "book_html = \"\\n<br>\".join(book[\"toc\"]) + \"\\n\" +\"\\n\".join(book[\"body\"])"
   ]
  },
  {
   "cell_type": "code",
   "execution_count": null,
   "metadata": {
    "collapsed": false
   },
   "outputs": [],
   "source": [
    "with open(\"ssc_moloch.html\", \"w\") as f:\n",
    "    logging.info(\"Writing html file\")\n",
    "    f.write(book_html)"
   ]
  },
  {
   "cell_type": "code",
   "execution_count": null,
   "metadata": {
    "collapsed": true
   },
   "outputs": [],
   "source": [
    "logging.info(\"Saving pickle files\")\n",
    "pickle.dump(post_cache, open(pickle_post_file, \"wb\"))\n",
    "pickle.dump(img_cache, open(pickle_img_file, \"wb\"))"
   ]
  },
  {
   "cell_type": "code",
   "execution_count": null,
   "metadata": {
    "collapsed": true
   },
   "outputs": [],
   "source": []
  }
 ],
 "metadata": {
  "kernelspec": {
   "display_name": "Python 3",
   "language": "python",
   "name": "python3"
  },
  "language_info": {
   "codemirror_mode": {
    "name": "ipython",
    "version": 3
   },
   "file_extension": ".py",
   "mimetype": "text/x-python",
   "name": "python",
   "nbconvert_exporter": "python",
   "pygments_lexer": "ipython3",
   "version": "3.6.0"
  }
 },
 "nbformat": 4,
 "nbformat_minor": 2
}
